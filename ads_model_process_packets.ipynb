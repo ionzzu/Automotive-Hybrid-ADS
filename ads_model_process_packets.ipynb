{
 "cells": [
  {
   "cell_type": "code",
   "execution_count": 1,
   "metadata": {},
   "outputs": [],
   "source": [
    "import pickle\n",
    "import pandas as pd\n",
    "\n",
    "from ads_helpers import encode_labels, txt_to_df"
   ]
  },
  {
   "cell_type": "code",
   "execution_count": 3,
   "metadata": {},
   "outputs": [],
   "source": [
    "data_dir = 'test_datasets'\n",
    "dataset_filenames = {'attack_free': 'Attack_free_dataset.txt',\n",
    "                     'dos_attack': 'DoS_attack_dataset.txt',\n",
    "                     'fuzzy_attack': 'Fuzzy_attack_dataset.txt',\n",
    "                     'impersonation_attack': 'Impersonation_attack_dataset.txt'}\n",
    "\n",
    "with open('ads_model.pkl', 'rb') as f:\n",
    "    ads_model = pickle.load(f)\n",
    "\n",
    "\n",
    "# for dataset in dataset_filenames:\n",
    "dataset = 'dos_attack'\n",
    "test_df = txt_to_df(dataset_filenames, data_dir, dataset)\n",
    "# test_df = encode_labels(test_df, label_lst=['ID', 'Data'])\n",
    "# pred = ads_model.predict(test_df)"
   ]
  },
  {
   "cell_type": "code",
   "execution_count": 4,
   "metadata": {},
   "outputs": [
    {
     "name": "stderr",
     "output_type": "stream",
     "text": [
      "c:\\Users\\jonathan\\Documents\\Coding\\Purdue-ECE547-Project\\ads_helpers.py:38: SettingWithCopyWarning: \n",
      "A value is trying to be set on a copy of a slice from a DataFrame.\n",
      "Try using .loc[row_indexer,col_indexer] = value instead\n",
      "\n",
      "See the caveats in the documentation: https://pandas.pydata.org/pandas-docs/stable/user_guide/indexing.html#returning-a-view-versus-a-copy\n",
      "  df[label] = label_encoder.fit_transform(df[label])\n"
     ]
    },
    {
     "data": {
      "text/plain": [
       "array([1], dtype=int64)"
      ]
     },
     "execution_count": 4,
     "metadata": {},
     "output_type": "execute_result"
    }
   ],
   "source": [
    "test_df_0 = test_df[test_df['Timestamp'] == 0.000000]\n",
    "# type(test_df_0)\n",
    "\n",
    "test_df_0 = encode_labels(test_df_0, label_lst=['ID', 'Data'])\n",
    "pred = ads_model.predict(test_df_0)\n",
    "pred"
   ]
  },
  {
   "cell_type": "code",
   "execution_count": null,
   "metadata": {},
   "outputs": [],
   "source": [
    "test_df_0"
   ]
  },
  {
   "cell_type": "code",
   "execution_count": null,
   "metadata": {},
   "outputs": [],
   "source": []
  },
  {
   "cell_type": "code",
   "execution_count": null,
   "metadata": {},
   "outputs": [],
   "source": [
    "## apply exported model to each dataset to test error detection\n",
    "\n",
    "data_dir = 'test_datasets'\n",
    "dataset_filenames = {'attack_free': 'Attack_free_dataset.txt',\n",
    "                     'dos_attack': 'DoS_attack_dataset.txt',\n",
    "                     'fuzzy_attack': 'Fuzzy_attack_dataset.txt',\n",
    "                     'impersonation_attack': 'Impersonation_attack_dataset.txt'}\n",
    "\n",
    "ads_model = joblib.load('ads_model.pkl')\n",
    "\n",
    "# for dataset in dataset_filenames:\n",
    "dataset = 'dos_attack'\n",
    "test_df = txt_to_df(dataset_filenames, data_dir, dataset)\n",
    "test_df = encode_labels(test_df, label_lst=['ID', 'Data'])\n",
    "pred = ads_model.predict(test_df)\n",
    "\n",
    "\n",
    "# for dataset in dataset_filenames:\n",
    "#     test_df = txt_to_df(dataset_filenames, data_dir, dataset)\n",
    "#     test_df = encode_labels(test_df, label_lst=['ID', 'Data'])\n",
    "\n",
    "#     pred = ads_model.predict(test_df)\n",
    "\n",
    "#     threshold = 0.875\n",
    "#     if sum(pred) / len(pred) > threshold:\n",
    "#         detect_msg = f'{dataset=} : Attack detected, {threshold=}'\n",
    "#     else:\n",
    "#         detect_msg = f'{dataset=} : Attack not detected, {threshold=}'\n",
    "#     print(detect_msg)\n",
    "\n",
    "#     threshold = 0.9\n",
    "#     if sum(pred) / len(pred) > threshold:\n",
    "#         detect_msg = f'{dataset=} : Attack detected, {threshold=}'\n",
    "#     else:\n",
    "#         detect_msg = f'{dataset=} : Attack not detected, {threshold=}'\n",
    "#     print(detect_msg)\n",
    "\n",
    "#     threshold = 0.925\n",
    "#     if sum(pred) / len(pred) > threshold:\n",
    "#         detect_msg = f'{dataset=} : Attack detected, {threshold=}'\n",
    "#     else:\n",
    "#         detect_msg = f'{dataset=} : Attack not detected, {threshold=}'\n",
    "#     print(detect_msg)\n",
    "\n",
    "#     threshold = 0.95\n",
    "#     if sum(pred) / len(pred) > threshold:\n",
    "#         detect_msg = f'{dataset=} : Attack detected, {threshold=}'\n",
    "#     else:\n",
    "#         detect_msg = f'{dataset=} : Attack not detected, {threshold=}'\n",
    "#     print(detect_msg)\n",
    "\n",
    "#     threshold = 0.975\n",
    "#     if sum(pred) / len(pred) > threshold:\n",
    "#         detect_msg = f'{dataset=} : Attack detected, {threshold=}'\n",
    "#     else:\n",
    "#         detect_msg = f'{dataset=} : Attack not detected, {threshold=}'\n",
    "#     print(detect_msg)\n",
    "\n",
    "#     threshold = 1\n",
    "#     if sum(pred) / len(pred) > threshold:\n",
    "#         detect_msg = f'{dataset=} : Attack detected, {threshold=}'\n",
    "#     else:\n",
    "#         detect_msg = f'{dataset=} : Attack not detected, {threshold=}'\n",
    "#     print(detect_msg)"
   ]
  },
  {
   "cell_type": "code",
   "execution_count": null,
   "metadata": {},
   "outputs": [],
   "source": []
  }
 ],
 "metadata": {
  "kernelspec": {
   "display_name": "Python 3",
   "language": "python",
   "name": "python3"
  },
  "language_info": {
   "codemirror_mode": {
    "name": "ipython",
    "version": 3
   },
   "file_extension": ".py",
   "mimetype": "text/x-python",
   "name": "python",
   "nbconvert_exporter": "python",
   "pygments_lexer": "ipython3",
   "version": "3.10.2"
  }
 },
 "nbformat": 4,
 "nbformat_minor": 2
}
